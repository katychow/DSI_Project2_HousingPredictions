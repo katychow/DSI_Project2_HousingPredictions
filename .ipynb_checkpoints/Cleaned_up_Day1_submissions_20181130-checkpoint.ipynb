{
 "cells": [
  {
   "cell_type": "code",
   "execution_count": 1,
   "metadata": {},
   "outputs": [],
   "source": [
    "import pandas as pd\n",
    "import numpy as np\n",
    "import matplotlib.pyplot as plt\n",
    "import seaborn as sns\n",
    "from sklearn.model_selection import train_test_split, cross_val_score\n",
    "from sklearn.linear_model import LinearRegression, LassoCV, RidgeCV, ElasticNetCV\n",
    "from sklearn.preprocessing import StandardScaler, PolynomialFeatures\n",
    "from sklearn.metrics import r2_score\n",
    "\n",
    "%matplotlib inline"
   ]
  },
  {
   "cell_type": "code",
   "execution_count": 2,
   "metadata": {},
   "outputs": [],
   "source": [
    "train = pd.read_csv('./datasets/train.csv')\n",
    "test = pd.read_csv('./datasets/test.csv')\n",
    "\n",
    "train = train[(train['Gr Liv Area']<4000) & (train['Lot Area']<25000)]"
   ]
  },
  {
   "cell_type": "code",
   "execution_count": 3,
   "metadata": {},
   "outputs": [],
   "source": [
    "Nominal = ['Sale Type','Neighborhood','Bldg Type', 'House Style','Foundation'] # no sale condition from jse site\n",
    "# Bldg Type & Sale Type\n",
    "# split bldg type - 1Fam, TwnhmE, Else\n",
    "# split Sale Type - New, Oth&CWD, Else\n",
    "# I want to use neighborhood, but will need extra time to group based on neighborhood prices (pivots)\n",
    "Numerical = ['Lot Area','Year Built', 'Year Remod/Add', \n",
    "             'BsmtFin SF 1','BsmtFin SF 2','Bsmt Unf SF', 'Total Bsmt SF', '1st Flr SF',\n",
    "             '2nd Flr SF','Gr Liv Area', 'Bsmt Full Bath',\n",
    "             'Bsmt Half Bath', 'Full Bath', 'Half Bath', 'Bedroom AbvGr',\n",
    "             'Kitchen AbvGr','TotRms AbvGrd',\n",
    "             'Garage Area','Wood Deck SF', 'Open Porch SF','Screen Porch',\n",
    "             'Mo Sold', 'Yr Sold' ,'SalePrice']\n",
    "Ordinal = ['Overall Qual','Overall Cond','Paved Drive']\n",
    "# only use overall 'overall qual'\n",
    "Target = ['SalePrice']\n",
    "Ids = ['Id']"
   ]
  },
  {
   "cell_type": "markdown",
   "metadata": {},
   "source": [
    "### examples of stuff"
   ]
  },
  {
   "cell_type": "code",
   "execution_count": 4,
   "metadata": {},
   "outputs": [
    {
     "data": {
      "text/plain": [
       "True"
      ]
     },
     "execution_count": 4,
     "metadata": {},
     "output_type": "execute_result"
    }
   ],
   "source": [
    "'straw' in 'strawberry jam'"
   ]
  },
  {
   "cell_type": "code",
   "execution_count": 5,
   "metadata": {},
   "outputs": [
    {
     "name": "stdout",
     "output_type": "stream",
     "text": [
      "False\n"
     ]
    }
   ],
   "source": [
    "if 'straw' in ['strawberry', 'jam']:\n",
    "    print(True)\n",
    "else:\n",
    "    print(False)"
   ]
  },
  {
   "cell_type": "code",
   "execution_count": 6,
   "metadata": {},
   "outputs": [],
   "source": [
    "def bin_quality(val):\n",
    "    if val < 5:\n",
    "        return 0\n",
    "    else:\n",
    "        return 1\n",
    "    \n",
    "#train['new+colname'].apply\n",
    "\n",
    "#train['new_col'] =\n",
    "train['Overall Qual'].apply(bin_quality)\n",
    "# train['Overall Qual'].value_counts()\n",
    "\n",
    "# plt.scatter(train['Overall Qual'].apply(bin_quality),train['SalePrice'],color='pink');\n",
    "\n",
    "def sale_type_cat(val):\n",
    "    if val in ['New']:\n",
    "        return 1\n",
    "    elif val in ['Oth','CWD']:\n",
    "        return 2\n",
    "    else:\n",
    "        return 0\n",
    "        \n",
    "# train['Sale Type'].apply(sale_type_cat)"
   ]
  },
  {
   "cell_type": "markdown",
   "metadata": {},
   "source": [
    "### make things work"
   ]
  },
  {
   "cell_type": "code",
   "execution_count": 7,
   "metadata": {
    "scrolled": true
   },
   "outputs": [
    {
     "name": "stderr",
     "output_type": "stream",
     "text": [
      "/anaconda3/lib/python3.6/site-packages/ipykernel_launcher.py:7: SettingWithCopyWarning: \n",
      "A value is trying to be set on a copy of a slice from a DataFrame.\n",
      "Try using .loc[row_indexer,col_indexer] = value instead\n",
      "\n",
      "See the caveats in the documentation: http://pandas.pydata.org/pandas-docs/stable/indexing.html#indexing-view-versus-copy\n",
      "  import sys\n",
      "/anaconda3/lib/python3.6/site-packages/ipykernel_launcher.py:8: SettingWithCopyWarning: \n",
      "A value is trying to be set on a copy of a slice from a DataFrame.\n",
      "Try using .loc[row_indexer,col_indexer] = value instead\n",
      "\n",
      "See the caveats in the documentation: http://pandas.pydata.org/pandas-docs/stable/indexing.html#indexing-view-versus-copy\n",
      "  \n",
      "/anaconda3/lib/python3.6/site-packages/ipykernel_launcher.py:9: SettingWithCopyWarning: \n",
      "A value is trying to be set on a copy of a slice from a DataFrame.\n",
      "Try using .loc[row_indexer,col_indexer] = value instead\n",
      "\n",
      "See the caveats in the documentation: http://pandas.pydata.org/pandas-docs/stable/indexing.html#indexing-view-versus-copy\n",
      "  if __name__ == '__main__':\n",
      "/anaconda3/lib/python3.6/site-packages/ipykernel_launcher.py:11: SettingWithCopyWarning: \n",
      "A value is trying to be set on a copy of a slice from a DataFrame.\n",
      "Try using .loc[row_indexer,col_indexer] = value instead\n",
      "\n",
      "See the caveats in the documentation: http://pandas.pydata.org/pandas-docs/stable/indexing.html#indexing-view-versus-copy\n",
      "  # This is added back by InteractiveShellApp.init_path()\n",
      "/anaconda3/lib/python3.6/site-packages/ipykernel_launcher.py:12: SettingWithCopyWarning: \n",
      "A value is trying to be set on a copy of a slice from a DataFrame.\n",
      "Try using .loc[row_indexer,col_indexer] = value instead\n",
      "\n",
      "See the caveats in the documentation: http://pandas.pydata.org/pandas-docs/stable/indexing.html#indexing-view-versus-copy\n",
      "  if sys.path[0] == '':\n",
      "/anaconda3/lib/python3.6/site-packages/ipykernel_launcher.py:13: SettingWithCopyWarning: \n",
      "A value is trying to be set on a copy of a slice from a DataFrame.\n",
      "Try using .loc[row_indexer,col_indexer] = value instead\n",
      "\n",
      "See the caveats in the documentation: http://pandas.pydata.org/pandas-docs/stable/indexing.html#indexing-view-versus-copy\n",
      "  del sys.path[0]\n"
     ]
    }
   ],
   "source": [
    "final_train = train[['Id','Lot Area', 'Year Built', 'Year Remod/Add', 'Gr Liv Area',\n",
    "                  'Bsmt Full Bath', 'Bsmt Half Bath', 'Full Bath', 'Half Bath',\n",
    "                  'Bedroom AbvGr', 'Kitchen AbvGr', 'TotRms AbvGrd', \n",
    "                   'Wood Deck SF','Open Porch SF','Screen Porch',\n",
    "                   'Mo Sold', 'Yr Sold' ,'Overall Cond', 'Bldg Type','Sale Type','SalePrice']]\n",
    "\n",
    "final_train['Tot_bath_abv_grd'] = final_train['Full Bath']+0.5*final_train['Half Bath']\n",
    "final_train['Tot_bath_bsmt']=final_train['Bsmt Full Bath']+0.5*final_train['Bsmt Half Bath']\n",
    "final_train['Outdoor Liv Area']=final_train['Wood Deck SF']+final_train['Open Porch SF']+final_train['Screen Porch']\n",
    "\n",
    "final_train['Overall Cond Bi']=final_train['Overall Cond'].map(lambda x: 1 if x >= 5 else 0)\n",
    "final_train['Bldg Type Bi']=final_train['Bldg Type'].map(lambda x: 1 if x in ['1Fam','TwnhmE'] else 0)\n",
    "final_train['Sale Type Bi']=final_train['Sale Type'].apply(sale_type_cat)"
   ]
  },
  {
   "cell_type": "code",
   "execution_count": 8,
   "metadata": {},
   "outputs": [
    {
     "data": {
      "text/html": [
       "<div>\n",
       "<style scoped>\n",
       "    .dataframe tbody tr th:only-of-type {\n",
       "        vertical-align: middle;\n",
       "    }\n",
       "\n",
       "    .dataframe tbody tr th {\n",
       "        vertical-align: top;\n",
       "    }\n",
       "\n",
       "    .dataframe thead th {\n",
       "        text-align: right;\n",
       "    }\n",
       "</style>\n",
       "<table border=\"1\" class=\"dataframe\">\n",
       "  <thead>\n",
       "    <tr style=\"text-align: right;\">\n",
       "      <th></th>\n",
       "      <th>Id</th>\n",
       "      <th>Lot Area</th>\n",
       "      <th>Year Built</th>\n",
       "      <th>Year Remod/Add</th>\n",
       "      <th>Gr Liv Area</th>\n",
       "      <th>Bsmt Full Bath</th>\n",
       "      <th>Bsmt Half Bath</th>\n",
       "      <th>Full Bath</th>\n",
       "      <th>Half Bath</th>\n",
       "      <th>Bedroom AbvGr</th>\n",
       "      <th>...</th>\n",
       "      <th>Overall Cond</th>\n",
       "      <th>Bldg Type</th>\n",
       "      <th>Sale Type</th>\n",
       "      <th>SalePrice</th>\n",
       "      <th>Tot_bath_abv_grd</th>\n",
       "      <th>Tot_bath_bsmt</th>\n",
       "      <th>Outdoor Liv Area</th>\n",
       "      <th>Overall Cond Bi</th>\n",
       "      <th>Bldg Type Bi</th>\n",
       "      <th>Sale Type Bi</th>\n",
       "    </tr>\n",
       "  </thead>\n",
       "  <tbody>\n",
       "    <tr>\n",
       "      <th>0</th>\n",
       "      <td>109</td>\n",
       "      <td>13517</td>\n",
       "      <td>1976</td>\n",
       "      <td>2005</td>\n",
       "      <td>1479</td>\n",
       "      <td>0.0</td>\n",
       "      <td>0.0</td>\n",
       "      <td>2</td>\n",
       "      <td>1</td>\n",
       "      <td>3</td>\n",
       "      <td>...</td>\n",
       "      <td>8</td>\n",
       "      <td>1Fam</td>\n",
       "      <td>WD</td>\n",
       "      <td>130500</td>\n",
       "      <td>2.5</td>\n",
       "      <td>0.0</td>\n",
       "      <td>44</td>\n",
       "      <td>1</td>\n",
       "      <td>1</td>\n",
       "      <td>0</td>\n",
       "    </tr>\n",
       "    <tr>\n",
       "      <th>1</th>\n",
       "      <td>544</td>\n",
       "      <td>11492</td>\n",
       "      <td>1996</td>\n",
       "      <td>1997</td>\n",
       "      <td>2122</td>\n",
       "      <td>1.0</td>\n",
       "      <td>0.0</td>\n",
       "      <td>2</td>\n",
       "      <td>1</td>\n",
       "      <td>4</td>\n",
       "      <td>...</td>\n",
       "      <td>5</td>\n",
       "      <td>1Fam</td>\n",
       "      <td>WD</td>\n",
       "      <td>220000</td>\n",
       "      <td>2.5</td>\n",
       "      <td>1.0</td>\n",
       "      <td>74</td>\n",
       "      <td>1</td>\n",
       "      <td>1</td>\n",
       "      <td>0</td>\n",
       "    </tr>\n",
       "  </tbody>\n",
       "</table>\n",
       "<p>2 rows × 27 columns</p>\n",
       "</div>"
      ],
      "text/plain": [
       "    Id  Lot Area  Year Built  Year Remod/Add  Gr Liv Area  Bsmt Full Bath  \\\n",
       "0  109     13517        1976            2005         1479             0.0   \n",
       "1  544     11492        1996            1997         2122             1.0   \n",
       "\n",
       "   Bsmt Half Bath  Full Bath  Half Bath  Bedroom AbvGr     ...       \\\n",
       "0             0.0          2          1              3     ...        \n",
       "1             0.0          2          1              4     ...        \n",
       "\n",
       "   Overall Cond  Bldg Type  Sale Type  SalePrice  Tot_bath_abv_grd  \\\n",
       "0             8       1Fam        WD      130500               2.5   \n",
       "1             5       1Fam        WD      220000               2.5   \n",
       "\n",
       "   Tot_bath_bsmt  Outdoor Liv Area  Overall Cond Bi Bldg Type Bi Sale Type Bi  \n",
       "0            0.0                44                1            1            0  \n",
       "1            1.0                74                1            1            0  \n",
       "\n",
       "[2 rows x 27 columns]"
      ]
     },
     "execution_count": 8,
     "metadata": {},
     "output_type": "execute_result"
    }
   ],
   "source": [
    "final_train.head(2)"
   ]
  },
  {
   "cell_type": "code",
   "execution_count": 9,
   "metadata": {},
   "outputs": [],
   "source": [
    "final_features = ['Id', 'Lot Area', 'Year Built', 'Year Remod/Add', 'Gr Liv Area',\n",
    "             'Bedroom AbvGr', 'Kitchen AbvGr', 'TotRms AbvGrd', 'Mo Sold', 'Yr Sold',\n",
    "             'Outdoor Liv Area',  'Tot_bath_abv_grd', 'Tot_bath_bsmt','Overall Cond Bi',\n",
    "             'Bldg Type Bi','Sale Type Bi','SalePrice']\n",
    "final_feats_train = final_train[final_features]"
   ]
  },
  {
   "cell_type": "code",
   "execution_count": 10,
   "metadata": {},
   "outputs": [
    {
     "name": "stderr",
     "output_type": "stream",
     "text": [
      "/anaconda3/lib/python3.6/site-packages/ipykernel_launcher.py:1: SettingWithCopyWarning: \n",
      "A value is trying to be set on a copy of a slice from a DataFrame\n",
      "\n",
      "See the caveats in the documentation: http://pandas.pydata.org/pandas-docs/stable/indexing.html#indexing-view-versus-copy\n",
      "  \"\"\"Entry point for launching an IPython kernel.\n"
     ]
    }
   ],
   "source": [
    "final_feats_train.dropna(inplace = True)"
   ]
  },
  {
   "cell_type": "code",
   "execution_count": 11,
   "metadata": {},
   "outputs": [
    {
     "data": {
      "text/plain": [
       "(2020, 17)"
      ]
     },
     "execution_count": 11,
     "metadata": {},
     "output_type": "execute_result"
    }
   ],
   "source": [
    "final_feats_train.shape"
   ]
  },
  {
   "cell_type": "markdown",
   "metadata": {},
   "source": [
    "### Try following steps \n",
    " * test/train split \n",
    " * polynomial features\n",
    " * standard scaler\n",
    " * fit Lasso/Ridge"
   ]
  },
  {
   "cell_type": "code",
   "execution_count": 12,
   "metadata": {},
   "outputs": [],
   "source": [
    "mod_feats = ['Lot Area', 'Year Built', 'Year Remod/Add', 'Gr Liv Area',\n",
    "             'Bedroom AbvGr', 'Kitchen AbvGr', 'TotRms AbvGrd', 'Mo Sold', 'Yr Sold',\n",
    "             'Outdoor Liv Area',  'Tot_bath_abv_grd', 'Tot_bath_bsmt','Overall Cond Bi',\n",
    "             'Bldg Type Bi','Sale Type Bi']\n",
    "X = final_feats_train[mod_feats]\n",
    "y = final_feats_train['SalePrice']"
   ]
  },
  {
   "cell_type": "code",
   "execution_count": 13,
   "metadata": {},
   "outputs": [],
   "source": [
    "pf = PolynomialFeatures(degree = 3, include_bias=False)\n",
    "pf = pf.fit(X)\n",
    "X_poly = pf.transform(X)"
   ]
  },
  {
   "cell_type": "code",
   "execution_count": 14,
   "metadata": {},
   "outputs": [],
   "source": [
    "X_poly_train, X_poly_test, y_poly_train, y_poly_test = train_test_split(X_poly,y,test_size = 0.2, random_state=42)"
   ]
  },
  {
   "cell_type": "code",
   "execution_count": 15,
   "metadata": {},
   "outputs": [],
   "source": [
    "ss = StandardScaler()\n",
    "ss.fit(X_poly_train)\n",
    "\n",
    "X_poly_train_ss = ss.transform(X_poly_train)\n",
    "X_poly_test_ss = ss.transform(X_poly_test)"
   ]
  },
  {
   "cell_type": "code",
   "execution_count": 16,
   "metadata": {},
   "outputs": [],
   "source": [
    "y_log_train = np.log(y_poly_train)"
   ]
  },
  {
   "cell_type": "code",
   "execution_count": 17,
   "metadata": {},
   "outputs": [],
   "source": [
    "lasso = LassoCV(max_iter=10000)\n",
    "ridge = RidgeCV()"
   ]
  },
  {
   "cell_type": "code",
   "execution_count": 18,
   "metadata": {},
   "outputs": [
    {
     "name": "stderr",
     "output_type": "stream",
     "text": [
      "/anaconda3/lib/python3.6/site-packages/sklearn/linear_model/coordinate_descent.py:491: ConvergenceWarning: Objective did not converge. You might want to increase the number of iterations. Fitting data with very small alpha may cause precision problems.\n",
      "  ConvergenceWarning)\n"
     ]
    },
    {
     "name": "stdout",
     "output_type": "stream",
     "text": [
      "[0.77357225 0.76719432 0.85115802 0.84069183 0.86440367]\n"
     ]
    },
    {
     "name": "stderr",
     "output_type": "stream",
     "text": [
      "/anaconda3/lib/python3.6/site-packages/sklearn/linear_model/coordinate_descent.py:491: ConvergenceWarning: Objective did not converge. You might want to increase the number of iterations. Fitting data with very small alpha may cause precision problems.\n",
      "  ConvergenceWarning)\n"
     ]
    },
    {
     "name": "stdout",
     "output_type": "stream",
     "text": [
      "0.8194040171851839\n"
     ]
    }
   ],
   "source": [
    "print(cross_val_score(lasso, X_poly_train_ss,y_log_train, cv = 5))\n",
    "print(cross_val_score(lasso, X_poly_train_ss,y_log_train,cv = 5).mean())\n",
    "\n",
    "# print(cross_val_score(ridge, X_poly_train_ss,y_log_train, cv = 5))\n",
    "# print(cross_val_score(ridge, X_poly_train_ss,y_log_train,cv = 5).mean())"
   ]
  },
  {
   "cell_type": "code",
   "execution_count": 19,
   "metadata": {},
   "outputs": [
    {
     "name": "stderr",
     "output_type": "stream",
     "text": [
      "/anaconda3/lib/python3.6/site-packages/sklearn/linear_model/coordinate_descent.py:491: ConvergenceWarning: Objective did not converge. You might want to increase the number of iterations. Fitting data with very small alpha may cause precision problems.\n",
      "  ConvergenceWarning)\n"
     ]
    },
    {
     "name": "stdout",
     "output_type": "stream",
     "text": [
      "0.8382858620143523\n"
     ]
    },
    {
     "data": {
      "text/plain": [
       "0.8517652570001318"
      ]
     },
     "execution_count": 19,
     "metadata": {},
     "output_type": "execute_result"
    }
   ],
   "source": [
    "lasso.fit(X_poly_train_ss,y_log_train)\n",
    "\n",
    "print(lasso.score(X_poly_train_ss,y_log_train))\n",
    "\n",
    "lasso_pred = lasso.predict(X_poly_test_ss)\n",
    "lasso_pred = np.exp(lasso_pred)\n",
    "r2_score(y_poly_test,lasso_pred)"
   ]
  },
  {
   "cell_type": "code",
   "execution_count": 20,
   "metadata": {},
   "outputs": [
    {
     "name": "stdout",
     "output_type": "stream",
     "text": [
      "0.8635714228091043\n"
     ]
    },
    {
     "data": {
      "text/plain": [
       "0.8289077609070893"
      ]
     },
     "execution_count": 20,
     "metadata": {},
     "output_type": "execute_result"
    }
   ],
   "source": [
    "ridge.fit(X_poly_train_ss,y_log_train)\n",
    "\n",
    "print(ridge.score(X_poly_train_ss,y_log_train))\n",
    "\n",
    "ridge_pred = ridge.predict(X_poly_test_ss)\n",
    "ridge_pred = np.exp(ridge_pred)\n",
    "r2_score(y_poly_test,ridge_pred)"
   ]
  },
  {
   "cell_type": "markdown",
   "metadata": {},
   "source": [
    "Somehow this is really taxing on the computer so will not try for this iteration\n",
    "\n",
    "```python\n",
    "enet_alphas = np.arange(0.01, 5.0, 0.005)\n",
    "\n",
    "# Set up our l1 ratio. (What does this do?) \n",
    "# enet_ratio = np.arange(0.01, 1.0, 0.01)  \n",
    "# this will weight lasso more heavily as ratio -> 1\n",
    "\n",
    "# Instantiate model.\n",
    "enet_model = ElasticNetCV(l1_ratio=enet_ratio, cv=5, max_iter=10000)\n",
    "\n",
    "# Fit model using optimal alpha.\n",
    "enet_model = enet_model.fit(X_poly_train_ss, y_log_train)\n",
    "\n",
    "print(enet_model.score(X_poly_train_ss,y_log_train))\n",
    "\n",
    "enet_pred = enet_model.predict(X_poly_test_ss)\n",
    "enet_pred = np.exp(enet_pred)\n",
    "r2_score(y_poly_test,enet_pred)\n",
    "```"
   ]
  },
  {
   "cell_type": "markdown",
   "metadata": {},
   "source": [
    "### now to fit on testing data and create predictions\n",
    "* create all transformations\n",
    "* create all polynomials\n",
    "* scale \n",
    "* predict\n",
    "* save predictions \n",
    "* submit"
   ]
  },
  {
   "cell_type": "code",
   "execution_count": 21,
   "metadata": {},
   "outputs": [
    {
     "name": "stderr",
     "output_type": "stream",
     "text": [
      "/anaconda3/lib/python3.6/site-packages/ipykernel_launcher.py:7: SettingWithCopyWarning: \n",
      "A value is trying to be set on a copy of a slice from a DataFrame.\n",
      "Try using .loc[row_indexer,col_indexer] = value instead\n",
      "\n",
      "See the caveats in the documentation: http://pandas.pydata.org/pandas-docs/stable/indexing.html#indexing-view-versus-copy\n",
      "  import sys\n",
      "/anaconda3/lib/python3.6/site-packages/ipykernel_launcher.py:8: SettingWithCopyWarning: \n",
      "A value is trying to be set on a copy of a slice from a DataFrame.\n",
      "Try using .loc[row_indexer,col_indexer] = value instead\n",
      "\n",
      "See the caveats in the documentation: http://pandas.pydata.org/pandas-docs/stable/indexing.html#indexing-view-versus-copy\n",
      "  \n",
      "/anaconda3/lib/python3.6/site-packages/ipykernel_launcher.py:9: SettingWithCopyWarning: \n",
      "A value is trying to be set on a copy of a slice from a DataFrame.\n",
      "Try using .loc[row_indexer,col_indexer] = value instead\n",
      "\n",
      "See the caveats in the documentation: http://pandas.pydata.org/pandas-docs/stable/indexing.html#indexing-view-versus-copy\n",
      "  if __name__ == '__main__':\n",
      "/anaconda3/lib/python3.6/site-packages/ipykernel_launcher.py:11: SettingWithCopyWarning: \n",
      "A value is trying to be set on a copy of a slice from a DataFrame.\n",
      "Try using .loc[row_indexer,col_indexer] = value instead\n",
      "\n",
      "See the caveats in the documentation: http://pandas.pydata.org/pandas-docs/stable/indexing.html#indexing-view-versus-copy\n",
      "  # This is added back by InteractiveShellApp.init_path()\n",
      "/anaconda3/lib/python3.6/site-packages/ipykernel_launcher.py:12: SettingWithCopyWarning: \n",
      "A value is trying to be set on a copy of a slice from a DataFrame.\n",
      "Try using .loc[row_indexer,col_indexer] = value instead\n",
      "\n",
      "See the caveats in the documentation: http://pandas.pydata.org/pandas-docs/stable/indexing.html#indexing-view-versus-copy\n",
      "  if sys.path[0] == '':\n",
      "/anaconda3/lib/python3.6/site-packages/ipykernel_launcher.py:13: SettingWithCopyWarning: \n",
      "A value is trying to be set on a copy of a slice from a DataFrame.\n",
      "Try using .loc[row_indexer,col_indexer] = value instead\n",
      "\n",
      "See the caveats in the documentation: http://pandas.pydata.org/pandas-docs/stable/indexing.html#indexing-view-versus-copy\n",
      "  del sys.path[0]\n"
     ]
    }
   ],
   "source": [
    "final_test = test[['Id','Lot Area', 'Year Built', 'Year Remod/Add', 'Gr Liv Area',\n",
    "                  'Bsmt Full Bath', 'Bsmt Half Bath', 'Full Bath', 'Half Bath',\n",
    "                  'Bedroom AbvGr', 'Kitchen AbvGr', 'TotRms AbvGrd', \n",
    "                   'Wood Deck SF','Open Porch SF','Screen Porch',\n",
    "                   'Mo Sold', 'Yr Sold' ,'Overall Cond', 'Bldg Type','Sale Type']]\n",
    "\n",
    "final_test['Tot_bath_abv_grd'] = final_test['Full Bath']+0.5*final_test['Half Bath']\n",
    "final_test['Tot_bath_bsmt']=final_test['Bsmt Full Bath']+0.5*final_test['Bsmt Half Bath']\n",
    "final_test['Outdoor Liv Area']=final_test['Wood Deck SF']+final_test['Open Porch SF']+final_test['Screen Porch']\n",
    "\n",
    "final_test['Overall Cond Bi']=final_test['Overall Cond'].map(lambda x: 1 if x >= 5 else 0)\n",
    "final_test['Bldg Type Bi']=final_test['Bldg Type'].map(lambda x: 1 if x in ['1Fam','TwnhmE'] else 0)\n",
    "final_test['Sale Type Bi']=final_test['Sale Type'].apply(sale_type_cat)"
   ]
  },
  {
   "cell_type": "code",
   "execution_count": 22,
   "metadata": {},
   "outputs": [],
   "source": [
    "final_test_mod = final_test[mod_feats]"
   ]
  },
  {
   "cell_type": "code",
   "execution_count": 23,
   "metadata": {},
   "outputs": [],
   "source": [
    "final_test_ss = ss.transform(pf.transform(final_test_mod))"
   ]
  },
  {
   "cell_type": "code",
   "execution_count": 24,
   "metadata": {},
   "outputs": [],
   "source": [
    "final_pred = lasso.predict(final_test_ss)\n",
    "final_pred = np.exp(final_pred)"
   ]
  },
  {
   "cell_type": "code",
   "execution_count": 25,
   "metadata": {
    "scrolled": true
   },
   "outputs": [
    {
     "data": {
      "text/html": [
       "<div>\n",
       "<style scoped>\n",
       "    .dataframe tbody tr th:only-of-type {\n",
       "        vertical-align: middle;\n",
       "    }\n",
       "\n",
       "    .dataframe tbody tr th {\n",
       "        vertical-align: top;\n",
       "    }\n",
       "\n",
       "    .dataframe thead th {\n",
       "        text-align: right;\n",
       "    }\n",
       "</style>\n",
       "<table border=\"1\" class=\"dataframe\">\n",
       "  <thead>\n",
       "    <tr style=\"text-align: right;\">\n",
       "      <th></th>\n",
       "      <th>Id</th>\n",
       "      <th>SalePrice</th>\n",
       "    </tr>\n",
       "  </thead>\n",
       "  <tbody>\n",
       "    <tr>\n",
       "      <th>0</th>\n",
       "      <td>2658</td>\n",
       "      <td>114032.766682</td>\n",
       "    </tr>\n",
       "    <tr>\n",
       "      <th>1</th>\n",
       "      <td>2718</td>\n",
       "      <td>118558.938369</td>\n",
       "    </tr>\n",
       "    <tr>\n",
       "      <th>2</th>\n",
       "      <td>2414</td>\n",
       "      <td>253460.226472</td>\n",
       "    </tr>\n",
       "    <tr>\n",
       "      <th>3</th>\n",
       "      <td>1989</td>\n",
       "      <td>109958.359027</td>\n",
       "    </tr>\n",
       "    <tr>\n",
       "      <th>4</th>\n",
       "      <td>625</td>\n",
       "      <td>157112.422560</td>\n",
       "    </tr>\n",
       "    <tr>\n",
       "      <th>5</th>\n",
       "      <td>333</td>\n",
       "      <td>107715.316832</td>\n",
       "    </tr>\n",
       "    <tr>\n",
       "      <th>6</th>\n",
       "      <td>1327</td>\n",
       "      <td>132892.217712</td>\n",
       "    </tr>\n",
       "    <tr>\n",
       "      <th>7</th>\n",
       "      <td>858</td>\n",
       "      <td>152692.721197</td>\n",
       "    </tr>\n",
       "    <tr>\n",
       "      <th>8</th>\n",
       "      <td>95</td>\n",
       "      <td>189754.493445</td>\n",
       "    </tr>\n",
       "    <tr>\n",
       "      <th>9</th>\n",
       "      <td>1568</td>\n",
       "      <td>157557.692246</td>\n",
       "    </tr>\n",
       "    <tr>\n",
       "      <th>10</th>\n",
       "      <td>2482</td>\n",
       "      <td>149264.410845</td>\n",
       "    </tr>\n",
       "    <tr>\n",
       "      <th>11</th>\n",
       "      <td>1364</td>\n",
       "      <td>111890.707924</td>\n",
       "    </tr>\n",
       "    <tr>\n",
       "      <th>12</th>\n",
       "      <td>2584</td>\n",
       "      <td>138160.928485</td>\n",
       "    </tr>\n",
       "    <tr>\n",
       "      <th>13</th>\n",
       "      <td>818</td>\n",
       "      <td>211440.511869</td>\n",
       "    </tr>\n",
       "    <tr>\n",
       "      <th>14</th>\n",
       "      <td>2673</td>\n",
       "      <td>177437.296477</td>\n",
       "    </tr>\n",
       "    <tr>\n",
       "      <th>15</th>\n",
       "      <td>2089</td>\n",
       "      <td>156074.280844</td>\n",
       "    </tr>\n",
       "    <tr>\n",
       "      <th>16</th>\n",
       "      <td>1297</td>\n",
       "      <td>105858.727809</td>\n",
       "    </tr>\n",
       "    <tr>\n",
       "      <th>17</th>\n",
       "      <td>790</td>\n",
       "      <td>127311.235642</td>\n",
       "    </tr>\n",
       "    <tr>\n",
       "      <th>18</th>\n",
       "      <td>2616</td>\n",
       "      <td>214064.794813</td>\n",
       "    </tr>\n",
       "    <tr>\n",
       "      <th>19</th>\n",
       "      <td>720</td>\n",
       "      <td>140951.014593</td>\n",
       "    </tr>\n",
       "    <tr>\n",
       "      <th>20</th>\n",
       "      <td>222</td>\n",
       "      <td>151876.867646</td>\n",
       "    </tr>\n",
       "    <tr>\n",
       "      <th>21</th>\n",
       "      <td>557</td>\n",
       "      <td>118611.953494</td>\n",
       "    </tr>\n",
       "    <tr>\n",
       "      <th>22</th>\n",
       "      <td>1148</td>\n",
       "      <td>214188.777971</td>\n",
       "    </tr>\n",
       "    <tr>\n",
       "      <th>23</th>\n",
       "      <td>2766</td>\n",
       "      <td>157858.302436</td>\n",
       "    </tr>\n",
       "    <tr>\n",
       "      <th>24</th>\n",
       "      <td>534</td>\n",
       "      <td>177005.809400</td>\n",
       "    </tr>\n",
       "    <tr>\n",
       "      <th>25</th>\n",
       "      <td>1452</td>\n",
       "      <td>112519.861916</td>\n",
       "    </tr>\n",
       "    <tr>\n",
       "      <th>26</th>\n",
       "      <td>630</td>\n",
       "      <td>118342.543609</td>\n",
       "    </tr>\n",
       "    <tr>\n",
       "      <th>27</th>\n",
       "      <td>2648</td>\n",
       "      <td>135330.333657</td>\n",
       "    </tr>\n",
       "    <tr>\n",
       "      <th>28</th>\n",
       "      <td>125</td>\n",
       "      <td>130016.593707</td>\n",
       "    </tr>\n",
       "    <tr>\n",
       "      <th>29</th>\n",
       "      <td>1904</td>\n",
       "      <td>90116.355177</td>\n",
       "    </tr>\n",
       "    <tr>\n",
       "      <th>...</th>\n",
       "      <td>...</td>\n",
       "      <td>...</td>\n",
       "    </tr>\n",
       "    <tr>\n",
       "      <th>849</th>\n",
       "      <td>933</td>\n",
       "      <td>121006.635736</td>\n",
       "    </tr>\n",
       "    <tr>\n",
       "      <th>850</th>\n",
       "      <td>2784</td>\n",
       "      <td>162666.339344</td>\n",
       "    </tr>\n",
       "    <tr>\n",
       "      <th>851</th>\n",
       "      <td>972</td>\n",
       "      <td>172603.456024</td>\n",
       "    </tr>\n",
       "    <tr>\n",
       "      <th>852</th>\n",
       "      <td>599</td>\n",
       "      <td>142007.945981</td>\n",
       "    </tr>\n",
       "    <tr>\n",
       "      <th>853</th>\n",
       "      <td>2614</td>\n",
       "      <td>117808.072391</td>\n",
       "    </tr>\n",
       "    <tr>\n",
       "      <th>854</th>\n",
       "      <td>2582</td>\n",
       "      <td>135650.530200</td>\n",
       "    </tr>\n",
       "    <tr>\n",
       "      <th>855</th>\n",
       "      <td>1409</td>\n",
       "      <td>137569.608459</td>\n",
       "    </tr>\n",
       "    <tr>\n",
       "      <th>856</th>\n",
       "      <td>175</td>\n",
       "      <td>101976.434011</td>\n",
       "    </tr>\n",
       "    <tr>\n",
       "      <th>857</th>\n",
       "      <td>352</td>\n",
       "      <td>205913.338570</td>\n",
       "    </tr>\n",
       "    <tr>\n",
       "      <th>858</th>\n",
       "      <td>976</td>\n",
       "      <td>103425.162678</td>\n",
       "    </tr>\n",
       "    <tr>\n",
       "      <th>859</th>\n",
       "      <td>2134</td>\n",
       "      <td>211833.247389</td>\n",
       "    </tr>\n",
       "    <tr>\n",
       "      <th>860</th>\n",
       "      <td>984</td>\n",
       "      <td>131048.442909</td>\n",
       "    </tr>\n",
       "    <tr>\n",
       "      <th>861</th>\n",
       "      <td>2396</td>\n",
       "      <td>287614.999843</td>\n",
       "    </tr>\n",
       "    <tr>\n",
       "      <th>862</th>\n",
       "      <td>1673</td>\n",
       "      <td>137089.264240</td>\n",
       "    </tr>\n",
       "    <tr>\n",
       "      <th>863</th>\n",
       "      <td>404</td>\n",
       "      <td>123448.249645</td>\n",
       "    </tr>\n",
       "    <tr>\n",
       "      <th>864</th>\n",
       "      <td>607</td>\n",
       "      <td>164334.774365</td>\n",
       "    </tr>\n",
       "    <tr>\n",
       "      <th>865</th>\n",
       "      <td>814</td>\n",
       "      <td>146246.526980</td>\n",
       "    </tr>\n",
       "    <tr>\n",
       "      <th>866</th>\n",
       "      <td>868</td>\n",
       "      <td>200279.133237</td>\n",
       "    </tr>\n",
       "    <tr>\n",
       "      <th>867</th>\n",
       "      <td>2271</td>\n",
       "      <td>175404.907455</td>\n",
       "    </tr>\n",
       "    <tr>\n",
       "      <th>868</th>\n",
       "      <td>1633</td>\n",
       "      <td>230965.725503</td>\n",
       "    </tr>\n",
       "    <tr>\n",
       "      <th>869</th>\n",
       "      <td>337</td>\n",
       "      <td>156867.364638</td>\n",
       "    </tr>\n",
       "    <tr>\n",
       "      <th>870</th>\n",
       "      <td>2765</td>\n",
       "      <td>119083.513903</td>\n",
       "    </tr>\n",
       "    <tr>\n",
       "      <th>871</th>\n",
       "      <td>1746</td>\n",
       "      <td>236431.940788</td>\n",
       "    </tr>\n",
       "    <tr>\n",
       "      <th>872</th>\n",
       "      <td>368</td>\n",
       "      <td>332213.978533</td>\n",
       "    </tr>\n",
       "    <tr>\n",
       "      <th>873</th>\n",
       "      <td>2806</td>\n",
       "      <td>197312.598968</td>\n",
       "    </tr>\n",
       "    <tr>\n",
       "      <th>874</th>\n",
       "      <td>1662</td>\n",
       "      <td>185087.698787</td>\n",
       "    </tr>\n",
       "    <tr>\n",
       "      <th>875</th>\n",
       "      <td>1234</td>\n",
       "      <td>212097.382569</td>\n",
       "    </tr>\n",
       "    <tr>\n",
       "      <th>876</th>\n",
       "      <td>1373</td>\n",
       "      <td>133984.691847</td>\n",
       "    </tr>\n",
       "    <tr>\n",
       "      <th>877</th>\n",
       "      <td>1672</td>\n",
       "      <td>114967.543537</td>\n",
       "    </tr>\n",
       "    <tr>\n",
       "      <th>878</th>\n",
       "      <td>1939</td>\n",
       "      <td>114774.655975</td>\n",
       "    </tr>\n",
       "  </tbody>\n",
       "</table>\n",
       "<p>879 rows × 2 columns</p>\n",
       "</div>"
      ],
      "text/plain": [
       "       Id      SalePrice\n",
       "0    2658  114032.766682\n",
       "1    2718  118558.938369\n",
       "2    2414  253460.226472\n",
       "3    1989  109958.359027\n",
       "4     625  157112.422560\n",
       "5     333  107715.316832\n",
       "6    1327  132892.217712\n",
       "7     858  152692.721197\n",
       "8      95  189754.493445\n",
       "9    1568  157557.692246\n",
       "10   2482  149264.410845\n",
       "11   1364  111890.707924\n",
       "12   2584  138160.928485\n",
       "13    818  211440.511869\n",
       "14   2673  177437.296477\n",
       "15   2089  156074.280844\n",
       "16   1297  105858.727809\n",
       "17    790  127311.235642\n",
       "18   2616  214064.794813\n",
       "19    720  140951.014593\n",
       "20    222  151876.867646\n",
       "21    557  118611.953494\n",
       "22   1148  214188.777971\n",
       "23   2766  157858.302436\n",
       "24    534  177005.809400\n",
       "25   1452  112519.861916\n",
       "26    630  118342.543609\n",
       "27   2648  135330.333657\n",
       "28    125  130016.593707\n",
       "29   1904   90116.355177\n",
       "..    ...            ...\n",
       "849   933  121006.635736\n",
       "850  2784  162666.339344\n",
       "851   972  172603.456024\n",
       "852   599  142007.945981\n",
       "853  2614  117808.072391\n",
       "854  2582  135650.530200\n",
       "855  1409  137569.608459\n",
       "856   175  101976.434011\n",
       "857   352  205913.338570\n",
       "858   976  103425.162678\n",
       "859  2134  211833.247389\n",
       "860   984  131048.442909\n",
       "861  2396  287614.999843\n",
       "862  1673  137089.264240\n",
       "863   404  123448.249645\n",
       "864   607  164334.774365\n",
       "865   814  146246.526980\n",
       "866   868  200279.133237\n",
       "867  2271  175404.907455\n",
       "868  1633  230965.725503\n",
       "869   337  156867.364638\n",
       "870  2765  119083.513903\n",
       "871  1746  236431.940788\n",
       "872   368  332213.978533\n",
       "873  2806  197312.598968\n",
       "874  1662  185087.698787\n",
       "875  1234  212097.382569\n",
       "876  1373  133984.691847\n",
       "877  1672  114967.543537\n",
       "878  1939  114774.655975\n",
       "\n",
       "[879 rows x 2 columns]"
      ]
     },
     "execution_count": 25,
     "metadata": {},
     "output_type": "execute_result"
    }
   ],
   "source": [
    "pd.DataFrame({\n",
    "    'Id': final_test['Id'],\n",
    "    'SalePrice': final_pred\n",
    "})"
   ]
  },
  {
   "cell_type": "code",
   "execution_count": 27,
   "metadata": {},
   "outputs": [],
   "source": [
    "pd.DataFrame({\n",
    "    'Id': final_test['Id'],\n",
    "    'SalePrice': final_pred\n",
    "}).to_csv('./Submissions/katy_chow_submission2_housingproject2_20181201.csv', index = False)"
   ]
  },
  {
   "cell_type": "code",
   "execution_count": null,
   "metadata": {},
   "outputs": [],
   "source": []
  }
 ],
 "metadata": {
  "kernelspec": {
   "display_name": "Python 3",
   "language": "python",
   "name": "python3"
  },
  "language_info": {
   "codemirror_mode": {
    "name": "ipython",
    "version": 3
   },
   "file_extension": ".py",
   "mimetype": "text/x-python",
   "name": "python",
   "nbconvert_exporter": "python",
   "pygments_lexer": "ipython3",
   "version": "3.6.4"
  }
 },
 "nbformat": 4,
 "nbformat_minor": 2
}
