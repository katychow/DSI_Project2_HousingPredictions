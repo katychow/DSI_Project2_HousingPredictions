{
 "cells": [
  {
   "cell_type": "markdown",
   "metadata": {},
   "source": [
    "### let's start with some imports"
   ]
  },
  {
   "cell_type": "code",
   "execution_count": 57,
   "metadata": {},
   "outputs": [],
   "source": [
    "import pandas as pd\n",
    "import numpy as np\n",
    "import matplotlib.pyplot as plt\n",
    "import seaborn as sns\n",
    "from sklearn.model_selection import train_test_split, cross_val_score\n",
    "from sklearn.linear_model import LinearRegression, LassoCV, RidgeCV, ElasticNetCV\n",
    "from sklearn.preprocessing import StandardScaler\n",
    "from sklearn.metrics import r2_score\n",
    "\n",
    "%matplotlib inline"
   ]
  },
  {
   "cell_type": "code",
   "execution_count": 2,
   "metadata": {},
   "outputs": [
    {
     "data": {
      "text/html": [
       "<div>\n",
       "<style scoped>\n",
       "    .dataframe tbody tr th:only-of-type {\n",
       "        vertical-align: middle;\n",
       "    }\n",
       "\n",
       "    .dataframe tbody tr th {\n",
       "        vertical-align: top;\n",
       "    }\n",
       "\n",
       "    .dataframe thead th {\n",
       "        text-align: right;\n",
       "    }\n",
       "</style>\n",
       "<table border=\"1\" class=\"dataframe\">\n",
       "  <thead>\n",
       "    <tr style=\"text-align: right;\">\n",
       "      <th></th>\n",
       "      <th>Lot Area</th>\n",
       "      <th>Year Built</th>\n",
       "      <th>Year Remod/Add</th>\n",
       "      <th>Gr Liv Area</th>\n",
       "      <th>Bsmt Full Bath</th>\n",
       "      <th>Bsmt Half Bath</th>\n",
       "      <th>Full Bath</th>\n",
       "      <th>Half Bath</th>\n",
       "      <th>Bedroom AbvGr</th>\n",
       "      <th>Kitchen AbvGr</th>\n",
       "      <th>TotRms AbvGrd</th>\n",
       "      <th>Mo Sold</th>\n",
       "      <th>Yr Sold</th>\n",
       "      <th>Outdoor Liv Area</th>\n",
       "      <th>SalePrice</th>\n",
       "    </tr>\n",
       "  </thead>\n",
       "  <tbody>\n",
       "    <tr>\n",
       "      <th>0</th>\n",
       "      <td>13517</td>\n",
       "      <td>1976</td>\n",
       "      <td>2005</td>\n",
       "      <td>1479</td>\n",
       "      <td>0.0</td>\n",
       "      <td>0.0</td>\n",
       "      <td>2</td>\n",
       "      <td>1</td>\n",
       "      <td>3</td>\n",
       "      <td>1</td>\n",
       "      <td>6</td>\n",
       "      <td>3</td>\n",
       "      <td>2010</td>\n",
       "      <td>44</td>\n",
       "      <td>130500</td>\n",
       "    </tr>\n",
       "    <tr>\n",
       "      <th>1</th>\n",
       "      <td>11492</td>\n",
       "      <td>1996</td>\n",
       "      <td>1997</td>\n",
       "      <td>2122</td>\n",
       "      <td>1.0</td>\n",
       "      <td>0.0</td>\n",
       "      <td>2</td>\n",
       "      <td>1</td>\n",
       "      <td>4</td>\n",
       "      <td>1</td>\n",
       "      <td>8</td>\n",
       "      <td>4</td>\n",
       "      <td>2009</td>\n",
       "      <td>74</td>\n",
       "      <td>220000</td>\n",
       "    </tr>\n",
       "  </tbody>\n",
       "</table>\n",
       "</div>"
      ],
      "text/plain": [
       "   Lot Area  Year Built  Year Remod/Add  Gr Liv Area  Bsmt Full Bath  \\\n",
       "0     13517        1976            2005         1479             0.0   \n",
       "1     11492        1996            1997         2122             1.0   \n",
       "\n",
       "   Bsmt Half Bath  Full Bath  Half Bath  Bedroom AbvGr  Kitchen AbvGr  \\\n",
       "0             0.0          2          1              3              1   \n",
       "1             0.0          2          1              4              1   \n",
       "\n",
       "   TotRms AbvGrd  Mo Sold  Yr Sold  Outdoor Liv Area  SalePrice  \n",
       "0              6        3     2010                44     130500  \n",
       "1              8        4     2009                74     220000  "
      ]
     },
     "execution_count": 2,
     "metadata": {},
     "output_type": "execute_result"
    }
   ],
   "source": [
    "#import dataset \n",
    "ds = pd.read_csv('./datasets/Numerical_data_cleaned_for_first_sub.csv').drop(columns=['Unnamed: 0'])\n",
    "ds.head(2)"
   ]
  },
  {
   "cell_type": "code",
   "execution_count": 3,
   "metadata": {},
   "outputs": [],
   "source": [
    "ds['Tot_bath_abv_grd'] = ds['Full Bath']+0.5*ds['Half Bath']\n",
    "ds['Tot_bath_bsmt']=ds['Bsmt Full Bath']+0.5*ds['Bsmt Half Bath']"
   ]
  },
  {
   "cell_type": "code",
   "execution_count": 4,
   "metadata": {},
   "outputs": [
    {
     "data": {
      "text/html": [
       "<div>\n",
       "<style scoped>\n",
       "    .dataframe tbody tr th:only-of-type {\n",
       "        vertical-align: middle;\n",
       "    }\n",
       "\n",
       "    .dataframe tbody tr th {\n",
       "        vertical-align: top;\n",
       "    }\n",
       "\n",
       "    .dataframe thead th {\n",
       "        text-align: right;\n",
       "    }\n",
       "</style>\n",
       "<table border=\"1\" class=\"dataframe\">\n",
       "  <thead>\n",
       "    <tr style=\"text-align: right;\">\n",
       "      <th></th>\n",
       "      <th>Lot Area</th>\n",
       "      <th>Year Built</th>\n",
       "      <th>Year Remod/Add</th>\n",
       "      <th>Gr Liv Area</th>\n",
       "      <th>Bsmt Full Bath</th>\n",
       "      <th>Bsmt Half Bath</th>\n",
       "      <th>Full Bath</th>\n",
       "      <th>Half Bath</th>\n",
       "      <th>Bedroom AbvGr</th>\n",
       "      <th>Kitchen AbvGr</th>\n",
       "      <th>TotRms AbvGrd</th>\n",
       "      <th>Mo Sold</th>\n",
       "      <th>Yr Sold</th>\n",
       "      <th>Outdoor Liv Area</th>\n",
       "      <th>SalePrice</th>\n",
       "      <th>Tot_bath_abv_grd</th>\n",
       "      <th>Tot_bath_bsmt</th>\n",
       "    </tr>\n",
       "  </thead>\n",
       "  <tbody>\n",
       "    <tr>\n",
       "      <th>0</th>\n",
       "      <td>13517</td>\n",
       "      <td>1976</td>\n",
       "      <td>2005</td>\n",
       "      <td>1479</td>\n",
       "      <td>0.0</td>\n",
       "      <td>0.0</td>\n",
       "      <td>2</td>\n",
       "      <td>1</td>\n",
       "      <td>3</td>\n",
       "      <td>1</td>\n",
       "      <td>6</td>\n",
       "      <td>3</td>\n",
       "      <td>2010</td>\n",
       "      <td>44</td>\n",
       "      <td>130500</td>\n",
       "      <td>2.5</td>\n",
       "      <td>0.0</td>\n",
       "    </tr>\n",
       "    <tr>\n",
       "      <th>1</th>\n",
       "      <td>11492</td>\n",
       "      <td>1996</td>\n",
       "      <td>1997</td>\n",
       "      <td>2122</td>\n",
       "      <td>1.0</td>\n",
       "      <td>0.0</td>\n",
       "      <td>2</td>\n",
       "      <td>1</td>\n",
       "      <td>4</td>\n",
       "      <td>1</td>\n",
       "      <td>8</td>\n",
       "      <td>4</td>\n",
       "      <td>2009</td>\n",
       "      <td>74</td>\n",
       "      <td>220000</td>\n",
       "      <td>2.5</td>\n",
       "      <td>1.0</td>\n",
       "    </tr>\n",
       "  </tbody>\n",
       "</table>\n",
       "</div>"
      ],
      "text/plain": [
       "   Lot Area  Year Built  Year Remod/Add  Gr Liv Area  Bsmt Full Bath  \\\n",
       "0     13517        1976            2005         1479             0.0   \n",
       "1     11492        1996            1997         2122             1.0   \n",
       "\n",
       "   Bsmt Half Bath  Full Bath  Half Bath  Bedroom AbvGr  Kitchen AbvGr  \\\n",
       "0             0.0          2          1              3              1   \n",
       "1             0.0          2          1              4              1   \n",
       "\n",
       "   TotRms AbvGrd  Mo Sold  Yr Sold  Outdoor Liv Area  SalePrice  \\\n",
       "0              6        3     2010                44     130500   \n",
       "1              8        4     2009                74     220000   \n",
       "\n",
       "   Tot_bath_abv_grd  Tot_bath_bsmt  \n",
       "0               2.5            0.0  \n",
       "1               2.5            1.0  "
      ]
     },
     "execution_count": 4,
     "metadata": {},
     "output_type": "execute_result"
    }
   ],
   "source": [
    "ds.head(2)"
   ]
  },
  {
   "cell_type": "code",
   "execution_count": 5,
   "metadata": {},
   "outputs": [
    {
     "data": {
      "text/plain": [
       "Index(['Lot Area', 'Year Built', 'Year Remod/Add', 'Gr Liv Area',\n",
       "       'Bsmt Full Bath', 'Bsmt Half Bath', 'Full Bath', 'Half Bath',\n",
       "       'Bedroom AbvGr', 'Kitchen AbvGr', 'TotRms AbvGrd', 'Mo Sold', 'Yr Sold',\n",
       "       'Outdoor Liv Area', 'SalePrice', 'Tot_bath_abv_grd', 'Tot_bath_bsmt'],\n",
       "      dtype='object')"
      ]
     },
     "execution_count": 5,
     "metadata": {},
     "output_type": "execute_result"
    }
   ],
   "source": [
    "ds.columns"
   ]
  },
  {
   "cell_type": "code",
   "execution_count": 6,
   "metadata": {},
   "outputs": [],
   "source": [
    "keepers = ['Lot Area', 'Year Built', 'Year Remod/Add', 'Gr Liv Area',\n",
    "           'Bedroom AbvGr', 'Kitchen AbvGr', 'TotRms AbvGrd', 'Mo Sold', 'Yr Sold',\n",
    "           'Outdoor Liv Area', 'SalePrice', 'Tot_bath_abv_grd', 'Tot_bath_bsmt']\n",
    "ds_cleaned = ds[keepers]"
   ]
  },
  {
   "cell_type": "code",
   "execution_count": 7,
   "metadata": {},
   "outputs": [
    {
     "data": {
      "text/plain": [
       "Lot Area            0\n",
       "Year Built          0\n",
       "Year Remod/Add      0\n",
       "Gr Liv Area         0\n",
       "Bedroom AbvGr       0\n",
       "Kitchen AbvGr       0\n",
       "TotRms AbvGrd       0\n",
       "Mo Sold             0\n",
       "Yr Sold             0\n",
       "Outdoor Liv Area    0\n",
       "SalePrice           0\n",
       "Tot_bath_abv_grd    0\n",
       "Tot_bath_bsmt       1\n",
       "dtype: int64"
      ]
     },
     "execution_count": 7,
     "metadata": {},
     "output_type": "execute_result"
    }
   ],
   "source": [
    "ds_cleaned.isnull().sum()"
   ]
  },
  {
   "cell_type": "code",
   "execution_count": 8,
   "metadata": {},
   "outputs": [],
   "source": [
    "ds_cleaned = ds_cleaned.dropna()"
   ]
  },
  {
   "cell_type": "markdown",
   "metadata": {},
   "source": [
    "### now let's go ahead and try 4 models? regular MLR, Lasso, Ridge and if lasso>ridge or vice versa try ENet"
   ]
  },
  {
   "cell_type": "markdown",
   "metadata": {},
   "source": [
    "#### Test/Train split & scaling! "
   ]
  },
  {
   "cell_type": "code",
   "execution_count": 9,
   "metadata": {},
   "outputs": [],
   "source": [
    "features = ['Lot Area', 'Year Built', 'Year Remod/Add', 'Gr Liv Area',\n",
    "           'Bedroom AbvGr', 'Kitchen AbvGr', 'TotRms AbvGrd', 'Mo Sold', 'Yr Sold',\n",
    "           'Outdoor Liv Area',  'Tot_bath_abv_grd', 'Tot_bath_bsmt']\n",
    "X = ds_cleaned[features]\n",
    "y = ds_cleaned['SalePrice']"
   ]
  },
  {
   "cell_type": "code",
   "execution_count": 10,
   "metadata": {},
   "outputs": [],
   "source": [
    "X_train, X_test, y_train, y_test = train_test_split(X,y,test_size = 0.2, random_state=42)"
   ]
  },
  {
   "cell_type": "code",
   "execution_count": 11,
   "metadata": {
    "scrolled": false
   },
   "outputs": [
    {
     "data": {
      "image/png": "[encoded data removed]",
      "text/plain": [
       "<Figure size 432x288 with 1 Axes>"
      ]
     },
     "metadata": {},
     "output_type": "display_data"
    }
   ],
   "source": [
    "# transformation of y value is creating nicer predictions, probably due to assumptions math stuff\n",
    "np.log(y_train).hist(color='pink',bins=25);"
   ]
  },
  {
   "cell_type": "code",
   "execution_count": 12,
   "metadata": {},
   "outputs": [],
   "source": [
    "y_train_log = np.log(y_train)"
   ]
  },
  {
   "cell_type": "code",
   "execution_count": 13,
   "metadata": {},
   "outputs": [],
   "source": [
    "ss = StandardScaler()\n",
    "ss.fit(X_train)\n",
    "\n",
    "X_train_ss = ss.transform(X_train)\n",
    "X_test_ss = ss.transform(X_test)"
   ]
  },
  {
   "cell_type": "markdown",
   "metadata": {},
   "source": [
    "#### Linear Regression & Lasso & Ridge"
   ]
  },
  {
   "cell_type": "code",
   "execution_count": 14,
   "metadata": {},
   "outputs": [],
   "source": [
    "# Linear regression first\n",
    "lr = LinearRegression()\n",
    "# then lasso & ridge \n",
    "lasso = LassoCV()\n",
    "ridge = RidgeCV()"
   ]
  },
  {
   "cell_type": "code",
   "execution_count": 33,
   "metadata": {},
   "outputs": [
    {
     "name": "stdout",
     "output_type": "stream",
     "text": [
      "[0.73549216 0.75483973 0.8233106  0.79809831 0.83040829]\n",
      "0.7884298163530595\n",
      "[0.73546493 0.75509936 0.8240469  0.7973075  0.82866779]\n",
      "0.788117297290986\n",
      "[0.73551014 0.75490492 0.82338311 0.79802681 0.83035459]\n",
      "0.7884359151283888\n"
     ]
    }
   ],
   "source": [
    "# cross_val_scores are sanity tests on how the data will perform on unseen data\n",
    "print(cross_val_score(lr, X_train_ss,y_train_log, cv = 5))\n",
    "print(cross_val_score(lr, X_train_ss,y_train_log,cv = 5).mean())\n",
    "\n",
    "print(cross_val_score(lasso, X_train_ss,y_train_log, cv = 5))\n",
    "print(cross_val_score(lasso, X_train_ss,y_train_log,cv = 5).mean())\n",
    "\n",
    "print(cross_val_score(ridge, X_train_ss,y_train_log, cv = 5))\n",
    "print(cross_val_score(ridge, X_train_ss,y_train_log,cv = 5).mean())"
   ]
  },
  {
   "cell_type": "code",
   "execution_count": 37,
   "metadata": {},
   "outputs": [
    {
     "name": "stdout",
     "output_type": "stream",
     "text": [
      "0.7932052469105736\n"
     ]
    }
   ],
   "source": [
    "lr.fit(X_train_ss,y_train_log)\n",
    "\n",
    "print(lr.score(X_train_ss,y_train_log))\n",
    "# print(lr.score(X_test_ss,y_test))"
   ]
  },
  {
   "cell_type": "code",
   "execution_count": 38,
   "metadata": {},
   "outputs": [
    {
     "data": {
      "text/plain": [
       "0.8327952365645946"
      ]
     },
     "execution_count": 38,
     "metadata": {},
     "output_type": "execute_result"
    }
   ],
   "source": [
    "lr_pred = lr.predict(X_test_ss)\n",
    "lr_pred = np.exp(lr_pred)\n",
    "r2_score(y_test,lr_pred)"
   ]
  },
  {
   "cell_type": "code",
   "execution_count": 39,
   "metadata": {},
   "outputs": [
    {
     "name": "stdout",
     "output_type": "stream",
     "text": [
      "0.7931493907830811\n"
     ]
    }
   ],
   "source": [
    "lasso.fit(X_train_ss,y_train_log)\n",
    "\n",
    "print(lasso.score(X_train_ss,y_train_log))\n",
    "# print(lasso.score(X_test_ss,y_test))"
   ]
  },
  {
   "cell_type": "code",
   "execution_count": 40,
   "metadata": {},
   "outputs": [
    {
     "data": {
      "text/plain": [
       "0.8322006469413039"
      ]
     },
     "execution_count": 40,
     "metadata": {},
     "output_type": "execute_result"
    }
   ],
   "source": [
    "lasso_pred = lasso.predict(X_test_ss)\n",
    "lasso_pred = np.exp(lasso_pred)\n",
    "r2_score(y_test,lasso_pred)"
   ]
  },
  {
   "cell_type": "code",
   "execution_count": 41,
   "metadata": {},
   "outputs": [
    {
     "name": "stdout",
     "output_type": "stream",
     "text": [
      "0.7932045757512414\n"
     ]
    }
   ],
   "source": [
    "ridge.fit(X_train_ss,y_train_log)\n",
    "\n",
    "print(ridge.score(X_train_ss,y_train_log))\n",
    "# print(ridge.score(X_test_ss,y_test))"
   ]
  },
  {
   "cell_type": "code",
   "execution_count": 51,
   "metadata": {},
   "outputs": [
    {
     "data": {
      "text/plain": [
       "array([12.34776939, 11.3711691 , 11.83362695, 11.88998673, 12.20087486,\n",
       "       12.15939772, 12.23000716, 12.21563465, 12.59226257, 11.51383246,\n",
       "       11.78441653, 12.37378818, 12.01467756, 12.02247867, 11.31346728,\n",
       "       12.25176691, 12.4545406 , 11.94520749, 11.74143225, 11.7218187 ,\n",
       "       11.40851393, 11.97321318, 12.16885826, 12.34009076, 11.63145423,\n",
       "       12.49106439, 12.48563219, 11.35095032, 11.58953907, 11.19111392,\n",
       "       11.52720977, 12.10098629, 11.72445531, 11.44753897, 11.80036751,\n",
       "       11.55892051, 12.61912766, 11.59875521, 12.49128696, 11.57833077,\n",
       "       12.08503412, 11.95534773, 11.52178151, 11.86020091, 12.13279764,\n",
       "       11.77427257, 12.60568948, 12.20718495, 12.76662035, 11.62444904,\n",
       "       12.27609737, 11.91292426, 12.46926014, 11.75788369, 11.69691124,\n",
       "       11.60741895, 11.73941351, 11.71526664, 12.4139728 , 11.89940416,\n",
       "       12.20519931, 12.07952707, 12.12977134, 12.96927306, 11.46366214,\n",
       "       11.98340617, 11.69516522, 11.78601867, 11.37383644, 11.7400967 ,\n",
       "       11.596454  , 12.03277268, 11.69047561, 11.79130844, 12.54322894,\n",
       "       11.16322851, 12.06964932, 12.4988399 , 11.87527998, 12.24440961,\n",
       "       11.96564568, 11.68171533, 11.80146003, 11.93142947, 11.67011187,\n",
       "       12.59818133, 12.41672239, 11.74275445, 13.08853207, 12.76899656,\n",
       "       11.32825446, 11.32917242, 12.39898647, 12.58977229, 12.39901629,\n",
       "       12.6199773 , 12.06741927, 12.35335932, 11.90965639, 11.4950356 ,\n",
       "       11.57510788, 11.91099976, 11.75174019, 11.9478564 , 11.59183464,\n",
       "       12.28954628, 11.97225283, 11.85509151, 11.83829682, 11.59840643,\n",
       "       11.88944923, 11.5796966 , 11.85446774, 11.67749996, 12.05892846,\n",
       "       11.77292512, 11.6619557 , 12.31586431, 12.13277243, 11.54900092,\n",
       "       12.09155924, 12.00746346, 12.09304077, 11.79382497, 12.53896905,\n",
       "       11.6589733 , 12.15936898, 11.81700172, 12.65318888, 12.02266615,\n",
       "       11.71140945, 12.20905191, 11.72085522, 11.89586755, 12.17161163,\n",
       "       11.8047294 , 12.34671164, 12.41341286, 12.2965524 , 12.28615684,\n",
       "       11.82465807, 12.56480005, 12.29012027, 12.22221712, 12.16230269,\n",
       "       12.1030859 , 12.36457889, 11.44823311, 11.96647861, 11.69517562,\n",
       "       12.43713811, 12.11735785, 12.42243757, 11.50277142, 11.77758956,\n",
       "       11.45048045, 11.63307323, 11.77494934, 11.71768643, 12.11350881,\n",
       "       11.1476465 , 13.1169792 , 12.0361386 , 11.58354932, 11.7777536 ,\n",
       "       12.5465675 , 11.60361324, 11.60847325, 12.48419424, 11.80443315,\n",
       "       11.65682943, 11.71066743, 11.98975304, 12.21256953, 11.58358091,\n",
       "       12.70561624, 12.03437693, 11.84967226, 11.60260235, 11.83448837,\n",
       "       12.20402608, 11.99064671, 11.78009172, 12.37609361, 11.93900793,\n",
       "       11.97266322, 11.5693982 , 12.06942384, 11.93339887, 11.6312081 ,\n",
       "       11.60811207, 12.06863484, 11.59064803, 12.94577694, 12.05539097,\n",
       "       12.47168981, 13.03212507, 12.26035126, 11.75907129, 12.21727035,\n",
       "       12.94184858, 11.5120814 , 11.95219642, 11.8959236 , 12.54816078,\n",
       "       12.452561  , 12.34289791, 11.35550381, 11.85617516, 12.22536915,\n",
       "       11.74615209, 11.99289309, 11.90648138, 11.84475232, 12.0143618 ,\n",
       "       12.25373145, 11.65038596, 11.71405406, 11.9260464 , 11.67995689,\n",
       "       12.05831148, 11.41688332, 12.13439891, 11.61171927, 11.6381246 ,\n",
       "       12.38526064, 12.17564447, 12.01064777, 12.33960915, 11.56565137,\n",
       "       11.73117   , 12.63362446, 12.00761629, 11.8977889 , 12.18960756,\n",
       "       11.59867094, 12.29978501, 11.52246716, 12.23037955, 11.88009176,\n",
       "       12.04650578, 11.98622811, 12.52851581, 11.71982375, 11.34345344,\n",
       "       12.06639863, 12.1313231 , 12.46385129, 11.6598476 , 12.90570612,\n",
       "       12.15128774, 12.47280861, 12.57338168, 11.47248364, 12.65541548,\n",
       "       12.05115067, 12.61806643, 12.3450308 , 12.15421171, 12.67312172,\n",
       "       11.71517907, 12.30117027, 11.87872209, 12.89357485, 11.43484714,\n",
       "       12.69882186, 12.45111702, 12.1550911 , 12.77492587, 12.08219351,\n",
       "       11.69063208, 11.81110336, 12.04595405, 12.69484023, 12.42710638,\n",
       "       11.86762543, 11.62264024, 12.62935549, 11.78491669, 12.20252605,\n",
       "       12.70011241, 11.91260406, 11.54698258, 12.70305307, 12.07649787,\n",
       "       12.2609441 , 11.87308173, 11.81855768, 11.93517796, 12.79710657,\n",
       "       11.67654661, 11.94622763, 11.35427284, 11.4600679 , 12.40370101,\n",
       "       11.78391553, 11.91567426, 12.36279819, 11.67793019, 11.58206069,\n",
       "       11.80437037, 11.92281454, 12.35932659, 12.28734704, 12.18748891,\n",
       "       11.98525175, 12.43953998, 11.96950737, 11.90612367, 11.46616784,\n",
       "       11.3622989 , 12.65108947, 12.54921852, 12.2917042 , 11.45568057,\n",
       "       11.79728639, 12.10998982, 12.19337568, 12.51663234, 11.85585557,\n",
       "       12.08202343, 12.119793  , 12.49133413, 12.18188092, 12.00273572,\n",
       "       11.78555783, 12.32358779, 12.0927851 , 11.62705892, 11.62509622,\n",
       "       12.07434376, 11.43346993, 12.39656692, 11.57629449, 12.19495875,\n",
       "       12.06773065, 11.35337991, 11.99857083, 12.39829101, 12.72597059,\n",
       "       11.4572411 , 11.40194188, 12.78112872, 11.82168638, 11.70625111,\n",
       "       12.22320152, 11.83546995, 11.55646932, 12.17027858, 11.94993202,\n",
       "       11.67333906, 12.16602104, 12.0973261 , 12.1250218 , 11.65925957,\n",
       "       11.62663014, 11.91558213, 11.8198138 , 11.84838951, 12.11804065,\n",
       "       11.76468884, 11.77661391, 12.21688057, 12.71238811, 11.61310356,\n",
       "       12.23807284, 12.47076133, 11.63698885, 12.18399546, 12.51374617,\n",
       "       11.6739409 , 11.74429059, 11.8078545 , 11.91644284, 12.82575456,\n",
       "       12.03338464, 11.79515127, 12.16387418, 12.26664288, 12.37400362,\n",
       "       12.02345276, 11.95800058, 12.45807031, 12.85957251, 12.04681188,\n",
       "       12.01039884, 12.38195961, 11.77398023, 11.69821095, 12.18855774,\n",
       "       11.96946103, 11.90800616, 12.06772445, 11.68436602, 12.32832768,\n",
       "       12.31910985, 12.17560458, 12.0654494 , 12.24958214, 12.18943683,\n",
       "       11.97775744, 11.72414147, 11.98182438, 11.773313  ])"
      ]
     },
     "execution_count": 51,
     "metadata": {},
     "output_type": "execute_result"
    }
   ],
   "source": [
    "ridge_pred = ridge.predict(X_test_ss)"
   ]
  },
  {
   "cell_type": "code",
   "execution_count": 42,
   "metadata": {},
   "outputs": [
    {
     "data": {
      "text/plain": [
       "0.8328078816895331"
      ]
     },
     "execution_count": 42,
     "metadata": {},
     "output_type": "execute_result"
    }
   ],
   "source": [
    "ridge_pred = np.exp(ridge_pred)\n",
    "r2_score(y_test,ridge_pred)"
   ]
  },
  {
   "cell_type": "markdown",
   "metadata": {},
   "source": [
    "### now let's pull in test.csv and clean and create columns as I did for train set & make predictions"
   ]
  },
  {
   "cell_type": "code",
   "execution_count": 22,
   "metadata": {},
   "outputs": [],
   "source": [
    "test_ds = pd.read_csv('./datasets/test.csv')"
   ]
  },
  {
   "cell_type": "code",
   "execution_count": 23,
   "metadata": {},
   "outputs": [
    {
     "data": {
      "text/plain": [
       "Index(['Id', 'PID', 'MS SubClass', 'MS Zoning', 'Lot Frontage', 'Lot Area',\n",
       "       'Street', 'Alley', 'Lot Shape', 'Land Contour', 'Utilities',\n",
       "       'Lot Config', 'Land Slope', 'Neighborhood', 'Condition 1',\n",
       "       'Condition 2', 'Bldg Type', 'House Style', 'Overall Qual',\n",
       "       'Overall Cond', 'Year Built', 'Year Remod/Add', 'Roof Style',\n",
       "       'Roof Matl', 'Exterior 1st', 'Exterior 2nd', 'Mas Vnr Type',\n",
       "       'Mas Vnr Area', 'Exter Qual', 'Exter Cond', 'Foundation', 'Bsmt Qual',\n",
       "       'Bsmt Cond', 'Bsmt Exposure', 'BsmtFin Type 1', 'BsmtFin SF 1',\n",
       "       'BsmtFin Type 2', 'BsmtFin SF 2', 'Bsmt Unf SF', 'Total Bsmt SF',\n",
       "       'Heating', 'Heating QC', 'Central Air', 'Electrical', '1st Flr SF',\n",
       "       '2nd Flr SF', 'Low Qual Fin SF', 'Gr Liv Area', 'Bsmt Full Bath',\n",
       "       'Bsmt Half Bath', 'Full Bath', 'Half Bath', 'Bedroom AbvGr',\n",
       "       'Kitchen AbvGr', 'Kitchen Qual', 'TotRms AbvGrd', 'Functional',\n",
       "       'Fireplaces', 'Fireplace Qu', 'Garage Type', 'Garage Yr Blt',\n",
       "       'Garage Finish', 'Garage Cars', 'Garage Area', 'Garage Qual',\n",
       "       'Garage Cond', 'Paved Drive', 'Wood Deck SF', 'Open Porch SF',\n",
       "       'Enclosed Porch', '3Ssn Porch', 'Screen Porch', 'Pool Area', 'Pool QC',\n",
       "       'Fence', 'Misc Feature', 'Misc Val', 'Mo Sold', 'Yr Sold', 'Sale Type'],\n",
       "      dtype='object')"
      ]
     },
     "execution_count": 23,
     "metadata": {},
     "output_type": "execute_result"
    }
   ],
   "source": [
    "test_ds.head(2)\n",
    "test_ds.columns"
   ]
  },
  {
   "cell_type": "code",
   "execution_count": 24,
   "metadata": {},
   "outputs": [],
   "source": [
    "test_ds = test_ds[['Id','Lot Area', 'Year Built', 'Year Remod/Add', 'Gr Liv Area',\n",
    "                  'Bsmt Full Bath', 'Bsmt Half Bath', 'Full Bath', 'Half Bath',\n",
    "                  'Bedroom AbvGr', 'Kitchen AbvGr', 'TotRms AbvGrd', \n",
    "                   'Wood Deck SF','Open Porch SF','Screen Porch',\n",
    "                   'Mo Sold', 'Yr Sold']]\n",
    "\n",
    "test_ds['Tot_bath_abv_grd'] = test_ds['Full Bath']+0.5*test_ds['Half Bath']\n",
    "test_ds['Tot_bath_bsmt']=test_ds['Bsmt Full Bath']+0.5*test_ds['Bsmt Half Bath']\n",
    "test_ds['Outdoor Liv Area']=test_ds['Wood Deck SF']+test_ds['Open Porch SF']+test_ds['Screen Porch']"
   ]
  },
  {
   "cell_type": "code",
   "execution_count": 35,
   "metadata": {},
   "outputs": [],
   "source": [
    "final_features = ['Id', 'Lot Area', 'Year Built', 'Year Remod/Add', 'Gr Liv Area',\n",
    "                  'Bedroom AbvGr', 'Kitchen AbvGr', 'TotRms AbvGrd', 'Mo Sold', 'Yr Sold',\n",
    "                  'Outdoor Liv Area',  'Tot_bath_abv_grd', 'Tot_bath_bsmt']\n",
    "final_test_ds = test_ds[final_features]"
   ]
  },
  {
   "cell_type": "code",
   "execution_count": 50,
   "metadata": {},
   "outputs": [
    {
     "data": {
      "text/plain": [
       "(879, 13)"
      ]
     },
     "execution_count": 50,
     "metadata": {},
     "output_type": "execute_result"
    }
   ],
   "source": [
    "final_test_ds.shape"
   ]
  },
  {
   "cell_type": "code",
   "execution_count": 36,
   "metadata": {},
   "outputs": [
    {
     "data": {
      "text/html": [
       "<div>\n",
       "<style scoped>\n",
       "    .dataframe tbody tr th:only-of-type {\n",
       "        vertical-align: middle;\n",
       "    }\n",
       "\n",
       "    .dataframe tbody tr th {\n",
       "        vertical-align: top;\n",
       "    }\n",
       "\n",
       "    .dataframe thead th {\n",
       "        text-align: right;\n",
       "    }\n",
       "</style>\n",
       "<table border=\"1\" class=\"dataframe\">\n",
       "  <thead>\n",
       "    <tr style=\"text-align: right;\">\n",
       "      <th></th>\n",
       "      <th>Id</th>\n",
       "      <th>Lot Area</th>\n",
       "      <th>Year Built</th>\n",
       "      <th>Year Remod/Add</th>\n",
       "      <th>Gr Liv Area</th>\n",
       "      <th>Bedroom AbvGr</th>\n",
       "      <th>Kitchen AbvGr</th>\n",
       "      <th>TotRms AbvGrd</th>\n",
       "      <th>Mo Sold</th>\n",
       "      <th>Yr Sold</th>\n",
       "      <th>Outdoor Liv Area</th>\n",
       "      <th>Tot_bath_abv_grd</th>\n",
       "      <th>Tot_bath_bsmt</th>\n",
       "    </tr>\n",
       "  </thead>\n",
       "  <tbody>\n",
       "    <tr>\n",
       "      <th>0</th>\n",
       "      <td>2658</td>\n",
       "      <td>9142</td>\n",
       "      <td>1910</td>\n",
       "      <td>1950</td>\n",
       "      <td>1928</td>\n",
       "      <td>4</td>\n",
       "      <td>2</td>\n",
       "      <td>9</td>\n",
       "      <td>4</td>\n",
       "      <td>2006</td>\n",
       "      <td>60</td>\n",
       "      <td>2.0</td>\n",
       "      <td>0.0</td>\n",
       "    </tr>\n",
       "    <tr>\n",
       "      <th>1</th>\n",
       "      <td>2718</td>\n",
       "      <td>9662</td>\n",
       "      <td>1977</td>\n",
       "      <td>1977</td>\n",
       "      <td>1967</td>\n",
       "      <td>6</td>\n",
       "      <td>2</td>\n",
       "      <td>10</td>\n",
       "      <td>8</td>\n",
       "      <td>2006</td>\n",
       "      <td>170</td>\n",
       "      <td>2.0</td>\n",
       "      <td>0.0</td>\n",
       "    </tr>\n",
       "  </tbody>\n",
       "</table>\n",
       "</div>"
      ],
      "text/plain": [
       "     Id  Lot Area  Year Built  Year Remod/Add  Gr Liv Area  Bedroom AbvGr  \\\n",
       "0  2658      9142        1910            1950         1928              4   \n",
       "1  2718      9662        1977            1977         1967              6   \n",
       "\n",
       "   Kitchen AbvGr  TotRms AbvGrd  Mo Sold  Yr Sold  Outdoor Liv Area  \\\n",
       "0              2              9        4     2006                60   \n",
       "1              2             10        8     2006               170   \n",
       "\n",
       "   Tot_bath_abv_grd  Tot_bath_bsmt  \n",
       "0               2.0            0.0  \n",
       "1               2.0            0.0  "
      ]
     },
     "execution_count": 36,
     "metadata": {},
     "output_type": "execute_result"
    }
   ],
   "source": [
    "final_test_ds.head(2)"
   ]
  },
  {
   "cell_type": "code",
   "execution_count": 52,
   "metadata": {},
   "outputs": [],
   "source": [
    "# just use ridge regression predictions on this set.\n",
    "ridge_predictions = np.exp(ridge.predict(ss.transform(final_test_ds[features])))"
   ]
  },
  {
   "cell_type": "code",
   "execution_count": null,
   "metadata": {},
   "outputs": [],
   "source": [
    "pd.DataFrame({\n",
    "    'Id': test_ds['Id'],\n",
    "    'SalePrice': ridge_predictions\n",
    "})"
   ]
  },
  {
   "cell_type": "code",
   "execution_count": 55,
   "metadata": {},
   "outputs": [],
   "source": [
    "pd.DataFrame({\n",
    "    'Id': test_ds['Id'],\n",
    "    'SalePrice': ridge_predictions\n",
    "})\n",
    "#.to_csv('katy_chow_submission_housing_proj2_20181130.csv', index=False)"
   ]
  },
  {
   "cell_type": "markdown",
   "metadata": {},
   "source": [
    "### Trying elastic nets next\n",
    "* Elastic net is not working well with more heavily weighted Ridge. testing (0.35,0.6) incrementing by 0.05\n",
    "* cross_val_score.mean() not really budging which is great because then we know it is stable."
   ]
  },
  {
   "cell_type": "code",
   "execution_count": 70,
   "metadata": {
    "collapsed": true
   },
   "outputs": [
    {
     "name": "stderr",
     "output_type": "stream",
     "text": [
      "/anaconda3/lib/python3.6/site-packages/sklearn/linear_model/coordinate_descent.py:473: UserWarning: Coordinate descent with alpha=0 may lead to unexpected results and is discouraged.\n",
      "  tol, rng, random, positive)\n",
      "/anaconda3/lib/python3.6/site-packages/sklearn/linear_model/coordinate_descent.py:491: ConvergenceWarning: Objective did not converge. You might want to increase the number of iterations. Fitting data with very small alpha may cause precision problems.\n",
      "  ConvergenceWarning)\n",
      "/anaconda3/lib/python3.6/site-packages/sklearn/linear_model/coordinate_descent.py:1224: UserWarning: With alpha=0, this algorithm does not converge well. You are advised to use the LinearRegression estimator\n",
      "  model.fit(X, y)\n",
      "/anaconda3/lib/python3.6/site-packages/sklearn/linear_model/coordinate_descent.py:477: UserWarning: Coordinate descent with no regularization may lead to unexpected results and is discouraged.\n",
      "  positive)\n",
      "/anaconda3/lib/python3.6/site-packages/sklearn/linear_model/coordinate_descent.py:491: ConvergenceWarning: Objective did not converge. You might want to increase the number of iterations. Fitting data with very small alpha may cause precision problems.\n",
      "  ConvergenceWarning)\n"
     ]
    }
   ],
   "source": [
    "enet_alphas = np.arange(0, 1.0, 0.005)\n",
    "\n",
    "# Set up our l1 ratio. (What does this do?)\n",
    "enet_ratio = 0.6  # this will weight ridge more heavily \n",
    "\n",
    "# Instantiate model.\n",
    "enet_model = ElasticNetCV(alphas=enet_alphas, l1_ratio=enet_ratio, cv=5)\n",
    "\n",
    "# Fit model using optimal alpha.\n",
    "enet_model = enet_model.fit(X_train_ss, y_train_log)"
   ]
  },
  {
   "cell_type": "code",
   "execution_count": 71,
   "metadata": {
    "collapsed": true
   },
   "outputs": [
    {
     "name": "stderr",
     "output_type": "stream",
     "text": [
      "/anaconda3/lib/python3.6/site-packages/sklearn/linear_model/coordinate_descent.py:473: UserWarning: Coordinate descent with alpha=0 may lead to unexpected results and is discouraged.\n",
      "  tol, rng, random, positive)\n",
      "/anaconda3/lib/python3.6/site-packages/sklearn/linear_model/coordinate_descent.py:491: ConvergenceWarning: Objective did not converge. You might want to increase the number of iterations. Fitting data with very small alpha may cause precision problems.\n",
      "  ConvergenceWarning)\n",
      "/anaconda3/lib/python3.6/site-packages/sklearn/linear_model/coordinate_descent.py:1224: UserWarning: With alpha=0, this algorithm does not converge well. You are advised to use the LinearRegression estimator\n",
      "  model.fit(X, y)\n",
      "/anaconda3/lib/python3.6/site-packages/sklearn/linear_model/coordinate_descent.py:477: UserWarning: Coordinate descent with no regularization may lead to unexpected results and is discouraged.\n",
      "  positive)\n",
      "/anaconda3/lib/python3.6/site-packages/sklearn/linear_model/coordinate_descent.py:491: ConvergenceWarning: Objective did not converge. You might want to increase the number of iterations. Fitting data with very small alpha may cause precision problems.\n",
      "  ConvergenceWarning)\n",
      "/anaconda3/lib/python3.6/site-packages/sklearn/linear_model/coordinate_descent.py:473: UserWarning: Coordinate descent with alpha=0 may lead to unexpected results and is discouraged.\n",
      "  tol, rng, random, positive)\n",
      "/anaconda3/lib/python3.6/site-packages/sklearn/linear_model/coordinate_descent.py:491: ConvergenceWarning: Objective did not converge. You might want to increase the number of iterations. Fitting data with very small alpha may cause precision problems.\n",
      "  ConvergenceWarning)\n",
      "/anaconda3/lib/python3.6/site-packages/sklearn/linear_model/coordinate_descent.py:1224: UserWarning: With alpha=0, this algorithm does not converge well. You are advised to use the LinearRegression estimator\n",
      "  model.fit(X, y)\n",
      "/anaconda3/lib/python3.6/site-packages/sklearn/linear_model/coordinate_descent.py:477: UserWarning: Coordinate descent with no regularization may lead to unexpected results and is discouraged.\n",
      "  positive)\n",
      "/anaconda3/lib/python3.6/site-packages/sklearn/linear_model/coordinate_descent.py:491: ConvergenceWarning: Objective did not converge. You might want to increase the number of iterations. Fitting data with very small alpha may cause precision problems.\n",
      "  ConvergenceWarning)\n",
      "/anaconda3/lib/python3.6/site-packages/sklearn/linear_model/coordinate_descent.py:473: UserWarning: Coordinate descent with alpha=0 may lead to unexpected results and is discouraged.\n",
      "  tol, rng, random, positive)\n",
      "/anaconda3/lib/python3.6/site-packages/sklearn/linear_model/coordinate_descent.py:491: ConvergenceWarning: Objective did not converge. You might want to increase the number of iterations. Fitting data with very small alpha may cause precision problems.\n",
      "  ConvergenceWarning)\n",
      "/anaconda3/lib/python3.6/site-packages/sklearn/linear_model/coordinate_descent.py:1224: UserWarning: With alpha=0, this algorithm does not converge well. You are advised to use the LinearRegression estimator\n",
      "  model.fit(X, y)\n",
      "/anaconda3/lib/python3.6/site-packages/sklearn/linear_model/coordinate_descent.py:477: UserWarning: Coordinate descent with no regularization may lead to unexpected results and is discouraged.\n",
      "  positive)\n",
      "/anaconda3/lib/python3.6/site-packages/sklearn/linear_model/coordinate_descent.py:491: ConvergenceWarning: Objective did not converge. You might want to increase the number of iterations. Fitting data with very small alpha may cause precision problems.\n",
      "  ConvergenceWarning)\n",
      "/anaconda3/lib/python3.6/site-packages/sklearn/linear_model/coordinate_descent.py:473: UserWarning: Coordinate descent with alpha=0 may lead to unexpected results and is discouraged.\n",
      "  tol, rng, random, positive)\n",
      "/anaconda3/lib/python3.6/site-packages/sklearn/linear_model/coordinate_descent.py:491: ConvergenceWarning: Objective did not converge. You might want to increase the number of iterations. Fitting data with very small alpha may cause precision problems.\n",
      "  ConvergenceWarning)\n",
      "/anaconda3/lib/python3.6/site-packages/sklearn/linear_model/coordinate_descent.py:1224: UserWarning: With alpha=0, this algorithm does not converge well. You are advised to use the LinearRegression estimator\n",
      "  model.fit(X, y)\n",
      "/anaconda3/lib/python3.6/site-packages/sklearn/linear_model/coordinate_descent.py:477: UserWarning: Coordinate descent with no regularization may lead to unexpected results and is discouraged.\n",
      "  positive)\n",
      "/anaconda3/lib/python3.6/site-packages/sklearn/linear_model/coordinate_descent.py:491: ConvergenceWarning: Objective did not converge. You might want to increase the number of iterations. Fitting data with very small alpha may cause precision problems.\n",
      "  ConvergenceWarning)\n",
      "/anaconda3/lib/python3.6/site-packages/sklearn/linear_model/coordinate_descent.py:473: UserWarning: Coordinate descent with alpha=0 may lead to unexpected results and is discouraged.\n",
      "  tol, rng, random, positive)\n",
      "/anaconda3/lib/python3.6/site-packages/sklearn/linear_model/coordinate_descent.py:491: ConvergenceWarning: Objective did not converge. You might want to increase the number of iterations. Fitting data with very small alpha may cause precision problems.\n",
      "  ConvergenceWarning)\n",
      "/anaconda3/lib/python3.6/site-packages/sklearn/linear_model/coordinate_descent.py:1224: UserWarning: With alpha=0, this algorithm does not converge well. You are advised to use the LinearRegression estimator\n",
      "  model.fit(X, y)\n",
      "/anaconda3/lib/python3.6/site-packages/sklearn/linear_model/coordinate_descent.py:477: UserWarning: Coordinate descent with no regularization may lead to unexpected results and is discouraged.\n",
      "  positive)\n",
      "/anaconda3/lib/python3.6/site-packages/sklearn/linear_model/coordinate_descent.py:491: ConvergenceWarning: Objective did not converge. You might want to increase the number of iterations. Fitting data with very small alpha may cause precision problems.\n",
      "  ConvergenceWarning)\n"
     ]
    },
    {
     "data": {
      "text/plain": [
       "0.7884298163530595"
      ]
     },
     "execution_count": 71,
     "metadata": {},
     "output_type": "execute_result"
    }
   ],
   "source": [
    "cross_val_score(enet_model,X_train_ss,y_train_log, cv=5).mean()"
   ]
  },
  {
   "cell_type": "code",
   "execution_count": null,
   "metadata": {},
   "outputs": [],
   "source": []
  }
 ],
 "metadata": {
  "kernelspec": {
   "display_name": "Python 3",
   "language": "python",
   "name": "python3"
  },
  "language_info": {
   "codemirror_mode": {
    "name": "ipython",
    "version": 3
   },
   "file_extension": ".py",
   "mimetype": "text/x-python",
   "name": "python",
   "nbconvert_exporter": "python",
   "pygments_lexer": "ipython3",
   "version": "3.6.4"
  }
 },
 "nbformat": 4,
 "nbformat_minor": 2
}
